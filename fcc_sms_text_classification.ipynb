{
  "cells": [
    {
      "cell_type": "code",
      "execution_count": null,
      "metadata": {
        "id": "8RZOuS9LWQvv"
      },
      "outputs": [],
      "source": [
        "# import libraries\n",
        "try:\n",
        "  # %tensorflow_version only exists in Colab.\n",
        "  !pip install tf-nightly\n",
        "except Exception:\n",
        "  pass\n",
        "import tensorflow as tf\n",
        "import pandas as pd\n",
        "from tensorflow import keras\n",
        "!pip install tensorflow-datasets\n",
        "import tensorflow_datasets as tfds\n",
        "import numpy as np\n",
        "import matplotlib.pyplot as plt\n",
        "\n",
        "print(tf.__version__)"
      ]
    },
    {
      "cell_type": "code",
      "execution_count": null,
      "metadata": {
        "id": "lMHwYXHXCar3"
      },
      "outputs": [],
      "source": [
        "# get data files\n",
        "!wget https://cdn.freecodecamp.org/project-data/sms/train-data.tsv\n",
        "!wget https://cdn.freecodecamp.org/project-data/sms/valid-data.tsv\n",
        "\n",
        "train_file_path = \"train-data.tsv\"\n",
        "test_file_path = \"valid-data.tsv\""
      ]
    },
    {
      "cell_type": "code",
      "execution_count": null,
      "metadata": {
        "id": "g_h508FEClxO"
      },
      "outputs": [],
      "source": [
        "# Load and preprocess the data\n",
        "train_df = pd.read_csv(train_file_path, sep=\"\\t\", header=None, names=[\"label\", \"message\"])\n",
        "test_df = pd.read_csv(test_file_path, sep=\"\\t\", header=None, names=[\"label\", \"message\"])"
      ]
    },
    {
      "cell_type": "code",
      "source": [
        "# Convert labels to binary (0 for ham, 1 for spam)\n",
        "train_df[\"label\"] = train_df[\"label\"].map({\"ham\": 0, \"spam\": 1})\n",
        "test_df[\"label\"] = test_df[\"label\"].map({\"ham\": 0, \"spam\": 1})"
      ],
      "metadata": {
        "id": "UF01nt1gqpnG"
      },
      "execution_count": null,
      "outputs": []
    },
    {
      "cell_type": "code",
      "source": [
        "# Split into features and labels\n",
        "train_messages = train_df[\"message\"].values\n",
        "train_labels = train_df[\"label\"].values\n",
        "test_messages = test_df[\"message\"].values\n",
        "test_labels = test_df[\"label\"].values"
      ],
      "metadata": {
        "id": "O1Ye259bqmyQ"
      },
      "execution_count": null,
      "outputs": []
    },
    {
      "cell_type": "code",
      "source": [
        "# Enhanced text preprocessing\n",
        "def preprocess_text(text):\n",
        "    text = text.lower()  # Lowercase\n",
        "    text = ''.join([char for char in text if char.isalnum() or char == ' '])  # Remove special chars\n",
        "    return text\n",
        "\n",
        "train_messages = [preprocess_text(msg) for msg in train_messages]\n",
        "test_messages = [preprocess_text(msg) for msg in test_messages]"
      ],
      "metadata": {
        "id": "K4QPtu1lqkD0"
      },
      "execution_count": null,
      "outputs": []
    },
    {
      "cell_type": "code",
      "source": [
        "# Tokenize the text with larger vocabulary\n",
        "vocab_size = 2000  # Increased from 1000\n",
        "max_length = 120   # Increased from 100\n",
        "trunc_type = \"post\"\n",
        "padding_type = \"post\"\n",
        "oov_tok = \"<OOV>\"\n",
        "\n",
        "tokenizer = tf.keras.preprocessing.text.Tokenizer(num_words=vocab_size, oov_token=oov_tok)\n",
        "tokenizer.fit_on_texts(train_messages)"
      ],
      "metadata": {
        "id": "nwS7NCjuqhX9"
      },
      "execution_count": null,
      "outputs": []
    },
    {
      "cell_type": "code",
      "source": [
        "# Create sequences\n",
        "train_sequences = tokenizer.texts_to_sequences(train_messages)\n",
        "train_padded = tf.keras.preprocessing.sequence.pad_sequences(\n",
        "    train_sequences, maxlen=max_length, padding=padding_type, truncating=trunc_type\n",
        ")\n",
        "\n",
        "test_sequences = tokenizer.texts_to_sequences(test_messages)\n",
        "test_padded = tf.keras.preprocessing.sequence.pad_sequences(\n",
        "    test_sequences, maxlen=max_length, padding=padding_type, truncating=trunc_type\n",
        ")"
      ],
      "metadata": {
        "id": "5rBcVbJPqewM"
      },
      "execution_count": null,
      "outputs": []
    },
    {
      "cell_type": "code",
      "source": [
        "# Convert to numpy arrays\n",
        "train_padded = np.array(train_padded)\n",
        "train_labels = np.array(train_labels)\n",
        "test_padded = np.array(test_padded)\n",
        "test_labels = np.array(test_labels)"
      ],
      "metadata": {
        "id": "eOi7BRVlqbrE"
      },
      "execution_count": null,
      "outputs": []
    },
    {
      "cell_type": "code",
      "source": [
        "# Enhanced model architecture\n",
        "model = tf.keras.Sequential([\n",
        "    tf.keras.layers.Embedding(vocab_size, 64, input_length=max_length),  # Increased embedding dimension\n",
        "    tf.keras.layers.Dropout(0.2),  # Added dropout for regularization\n",
        "    tf.keras.layers.Conv1D(64, 5, activation='relu'),  # Added convolutional layer\n",
        "    tf.keras.layers.GlobalMaxPooling1D(),  # Changed to Max pooling\n",
        "    tf.keras.layers.Dense(64, activation='relu'),  # Additional dense layer\n",
        "    tf.keras.layers.Dropout(0.2),\n",
        "    tf.keras.layers.Dense(1, activation='sigmoid')\n",
        "])\n",
        "\n",
        "model.compile(loss='binary_crossentropy',\n",
        "              optimizer=tf.keras.optimizers.Adam(learning_rate=0.001),  # Custom learning rate\n",
        "              metrics=['accuracy'])"
      ],
      "metadata": {
        "id": "_JBUa1hQqY0r"
      },
      "execution_count": null,
      "outputs": []
    },
    {
      "cell_type": "code",
      "source": [
        "# Early stopping callback\n",
        "early_stopping = EarlyStopping(monitor='val_loss', patience=3, restore_best_weights=True)"
      ],
      "metadata": {
        "id": "l3cdm5MjqV-l"
      },
      "execution_count": null,
      "outputs": []
    },
    {
      "cell_type": "code",
      "execution_count": null,
      "metadata": {
        "id": "zOMKywn4zReN"
      },
      "outputs": [],
      "source": [
        "# Train the model with more epochs\n",
        "num_epochs = 20  # Increased from 10\n",
        "history = model.fit(\n",
        "    train_padded,\n",
        "    train_labels,\n",
        "    epochs=num_epochs,\n",
        "    validation_data=(test_padded, test_labels),\n",
        "    callbacks=[early_stopping],\n",
        "    verbose=2\n",
        ")"
      ]
    },
    {
      "cell_type": "code",
      "execution_count": null,
      "metadata": {
        "id": "J9tD9yACG6M9"
      },
      "outputs": [],
      "source": [
        "# function to predict messages based on model\n",
        "# (should return list containing prediction and label, ex. [0.008318834938108921, 'ham'])\n",
        "def predict_message(pred_text):\n",
        "    # Preprocess the input text\n",
        "    pred_text = preprocess_text(pred_text)\n",
        "    sequence = tokenizer.texts_to_sequences([pred_text])\n",
        "    padded = tf.keras.preprocessing.sequence.pad_sequences(\n",
        "        sequence, maxlen=max_length, padding=padding_type, truncating=trunc_type\n",
        "    )\n",
        "\n",
        "    # Make prediction\n",
        "    prediction = model.predict(padded, verbose=0)[0][0]\n",
        "\n",
        "    # Determine label\n",
        "    label = \"spam\" if prediction >= 0.5 else \"ham\"\n",
        "    return [prediction, label]\n",
        "\n",
        "pred_text = \"how are you doing today?\"\n",
        "\n",
        "prediction = predict_message(pred_text)\n",
        "print(prediction)"
      ]
    },
    {
      "cell_type": "code",
      "execution_count": null,
      "metadata": {
        "id": "Dxotov85SjsC"
      },
      "outputs": [],
      "source": [
        "# Run this cell to test your function and model. Do not modify contents.\n",
        "def test_predictions():\n",
        "  test_messages = [\"how are you doing today\",\n",
        "                   \"sale today! to stop texts call 98912460324\",\n",
        "                   \"i dont want to go. can we try it a different day? available sat\",\n",
        "                   \"our new mobile video service is live. just install on your phone to start watching.\",\n",
        "                   \"you have won £1000 cash! call to claim your prize.\",\n",
        "                   \"i'll bring it tomorrow. don't forget the milk.\",\n",
        "                   \"wow, is your arm alright. that happened to me one time too\"\n",
        "                  ]\n",
        "\n",
        "  test_answers = [\"ham\", \"spam\", \"ham\", \"spam\", \"spam\", \"ham\", \"ham\"]\n",
        "  passed = True\n",
        "\n",
        "  for msg, ans in zip(test_messages, test_answers):\n",
        "    prediction = predict_message(msg)\n",
        "    if prediction[1] != ans:\n",
        "      passed = False\n",
        "\n",
        "  if passed:\n",
        "    print(\"You passed the challenge. Great job!\")\n",
        "  else:\n",
        "    print(\"You haven't passed yet. Keep trying.\")\n",
        "\n",
        "test_predictions()\n"
      ]
    }
  ],
  "metadata": {
    "colab": {
      "name": "fcc_sms_text_classification.ipynb",
      "private_outputs": true,
      "provenance": [],
      "toc_visible": true
    },
    "kernelspec": {
      "display_name": "Python 3",
      "name": "python3"
    },
    "language_info": {}
  },
  "nbformat": 4,
  "nbformat_minor": 0
}